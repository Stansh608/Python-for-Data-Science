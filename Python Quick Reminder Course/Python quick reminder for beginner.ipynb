{
 "cells": [
  {
   "cell_type": "code",
   "execution_count": 9,
   "id": "fc92e57c",
   "metadata": {},
   "outputs": [
    {
     "name": "stdout",
     "output_type": "stream",
     "text": [
      "4*7= 28\n"
     ]
    }
   ],
   "source": [
    "print(f'4*7= {4*7}')"
   ]
  },
  {
   "cell_type": "code",
   "execution_count": 10,
   "id": "bb3b9b4a",
   "metadata": {},
   "outputs": [
    {
     "name": "stdout",
     "output_type": "stream",
     "text": [
      "Hello World\n"
     ]
    }
   ],
   "source": [
    "print(\"Hello World\")"
   ]
  },
  {
   "cell_type": "code",
   "execution_count": 14,
   "id": "c91d3d8d",
   "metadata": {},
   "outputs": [
    {
     "name": "stdout",
     "output_type": "stream",
     "text": [
      "[2, 3, 4, 5, 6, 5, 6]\n"
     ]
    }
   ],
   "source": [
    "list1=[2,3,4,5,6,5,6]\n",
    "type(list1)\n",
    "len(list1)\n",
    "print(list1)"
   ]
  },
  {
   "cell_type": "code",
   "execution_count": 16,
   "id": "03c2bd7e",
   "metadata": {},
   "outputs": [
    {
     "name": "stdout",
     "output_type": "stream",
     "text": [
      "the problem is that people don't want to learn first to be competent enough. That's real men job. TO GET THE SHIT DONE\n"
     ]
    }
   ],
   "source": [
    "print(\"the problem is that people don't want to learn first to be competent enough. That's real men job. TO GET THE SHIT DONE\")"
   ]
  },
  {
   "cell_type": "code",
   "execution_count": 17,
   "id": "cbb9f599",
   "metadata": {},
   "outputs": [],
   "source": [
    "List2=\"the problem is that people don't want to learn first to be competent enough. That's real men job. TO GET THE SHIT DONE\".split(\" \")"
   ]
  },
  {
   "cell_type": "code",
   "execution_count": 19,
   "id": "09fe38cf",
   "metadata": {},
   "outputs": [
    {
     "data": {
      "text/plain": [
       "['the',\n",
       " 'problem',\n",
       " 'is',\n",
       " 'that',\n",
       " 'people',\n",
       " \"don't\",\n",
       " 'want',\n",
       " 'to',\n",
       " 'learn',\n",
       " 'first',\n",
       " 'to',\n",
       " 'be',\n",
       " 'competent',\n",
       " 'enough.',\n",
       " \"That's\",\n",
       " 'real',\n",
       " 'men',\n",
       " 'job.',\n",
       " 'TO',\n",
       " 'GET',\n",
       " 'THE',\n",
       " 'SHIT',\n",
       " 'DONE']"
      ]
     },
     "execution_count": 19,
     "metadata": {},
     "output_type": "execute_result"
    }
   ],
   "source": [
    "List2"
   ]
  },
  {
   "cell_type": "code",
   "execution_count": 1,
   "id": "ee05489a",
   "metadata": {},
   "outputs": [
    {
     "data": {
      "text/plain": [
       "2401"
      ]
     },
     "execution_count": 1,
     "metadata": {},
     "output_type": "execute_result"
    }
   ],
   "source": [
    "7**4"
   ]
  },
  {
   "cell_type": "code",
   "execution_count": 2,
   "id": "bdc9e9ed",
   "metadata": {},
   "outputs": [
    {
     "data": {
      "text/plain": [
       "['Hi', 'there', 'Stan!']"
      ]
     },
     "execution_count": 2,
     "metadata": {},
     "output_type": "execute_result"
    }
   ],
   "source": [
    "s= \"Hi there Stan!\"\n",
    "s.split()"
   ]
  },
  {
   "cell_type": "code",
   "execution_count": 4,
   "id": "6cbd82fe",
   "metadata": {},
   "outputs": [
    {
     "name": "stdout",
     "output_type": "stream",
     "text": [
      "domain.com\n"
     ]
    }
   ],
   "source": [
    "def email(email): return email.split('@')[1]\n",
    "\n",
    "print(email('user@domain.com'))"
   ]
  },
  {
   "cell_type": "code",
   "execution_count": 5,
   "id": "bfd13665",
   "metadata": {},
   "outputs": [
    {
     "data": {
      "text/plain": [
       "True"
      ]
     },
     "execution_count": 5,
     "metadata": {},
     "output_type": "execute_result"
    }
   ],
   "source": [
    "def findDog(stmt): return 'dog' in stmt.lower().split()\n",
    "\n",
    "findDog(\"Is there dog here?\")"
   ]
  },
  {
   "cell_type": "code",
   "execution_count": 9,
   "id": "8cd0d7cf",
   "metadata": {},
   "outputs": [
    {
     "data": {
      "text/plain": [
       "['soup', 'salad']"
      ]
     },
     "execution_count": 9,
     "metadata": {},
     "output_type": "execute_result"
    }
   ],
   "source": [
    "seq=['soup', 'dog', 'salad', 'cat', 'great']\n",
    "list(filter(lambda  x:x[0]=='s', seq))"
   ]
  },
  {
   "cell_type": "code",
   "execution_count": 15,
   "id": "52bd20bf",
   "metadata": {},
   "outputs": [],
   "source": [
    "def caught_speeding(speed, is_birthday):\n",
    "    if(is_birthday):\n",
    "        speeding=speed-5\n",
    "    else:\n",
    "        speeding=speed\n",
    "    \n",
    "    if(speeding<60): return 'No Ticket'\n",
    "    elif(speeding<80): return 'Small Ticket'\n",
    "    else:\n",
    "        return 'Big Ticket'\n",
    "            "
   ]
  },
  {
   "cell_type": "code",
   "execution_count": 16,
   "id": "e8ca3ff7",
   "metadata": {},
   "outputs": [
    {
     "data": {
      "text/plain": [
       "'Small Ticket'"
      ]
     },
     "execution_count": 16,
     "metadata": {},
     "output_type": "execute_result"
    }
   ],
   "source": [
    "caught_speeding(81, True)"
   ]
  },
  {
   "cell_type": "code",
   "execution_count": 18,
   "id": "8dce049d",
   "metadata": {},
   "outputs": [
    {
     "data": {
      "text/plain": [
       "'Big Ticket'"
      ]
     },
     "execution_count": 18,
     "metadata": {},
     "output_type": "execute_result"
    }
   ],
   "source": [
    "caught_speeding(81,False)"
   ]
  },
  {
   "cell_type": "code",
   "execution_count": null,
   "id": "4815fc9f",
   "metadata": {},
   "outputs": [],
   "source": []
  }
 ],
 "metadata": {
  "kernelspec": {
   "display_name": "Python 3 (ipykernel)",
   "language": "python",
   "name": "python3"
  },
  "language_info": {
   "codemirror_mode": {
    "name": "ipython",
    "version": 3
   },
   "file_extension": ".py",
   "mimetype": "text/x-python",
   "name": "python",
   "nbconvert_exporter": "python",
   "pygments_lexer": "ipython3",
   "version": "3.11.2"
  }
 },
 "nbformat": 4,
 "nbformat_minor": 5
}
